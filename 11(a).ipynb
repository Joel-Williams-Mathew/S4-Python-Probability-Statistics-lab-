{
 "cells": [
  {
   "cell_type": "code",
   "execution_count": 10,
   "id": "9fa10f14-1b25-4963-999e-43d452d4215b",
   "metadata": {},
   "outputs": [
    {
     "name": "stdout",
     "output_type": "stream",
     "text": [
      "\n",
      "T-Statistic: inf\n",
      "P-Value: 0.0\n",
      "Reject the null hypothesis: The new truck model has a significantly different fuel mileage.\n"
     ]
    }
   ],
   "source": [
    "import scipy.stats as stats\n",
    "# Experiment 11: T-Test for Difference of Means\n",
    "# Sample data for fuel mileage\n",
    "data = [22]*16  # Given mean = 22, sample size = 16\n",
    "previous_mean = 20  # Previous model's mean mileage\n",
    "sample_mean = 22  # Given sample mean\n",
    "sample_std = 3  # Given standard deviation\n",
    "n = 16  # Sample size\n",
    "\n",
    "# Perform One-Sample T-Test\n",
    "t_stat, p_value = stats.ttest_1samp(data, previous_mean)\n",
    "print(\"\\nT-Statistic:\", t_stat)\n",
    "print(\"P-Value:\", p_value)\n",
    "\n",
    "# Conclusion at 5% significance level\n",
    "if p_value < 0.05:\n",
    "    print(\"Reject the null hypothesis: The new truck model has a significantly different fuel mileage.\")\n",
    "else:\n",
    "    print(\"Fail to reject the null hypothesis: No significant difference in fuel mileage.\")"
   ]
  },
  {
   "cell_type": "code",
   "execution_count": null,
   "id": "e050cbe8-ddba-49d3-ac13-bc8aeb4d0aca",
   "metadata": {},
   "outputs": [],
   "source": []
  },
  {
   "cell_type": "code",
   "execution_count": null,
   "id": "3fec5e7f-3c9e-46b3-aa1e-d5db307656de",
   "metadata": {},
   "outputs": [],
   "source": []
  }
 ],
 "metadata": {
  "kernelspec": {
   "display_name": "Python 3 (ipykernel)",
   "language": "python",
   "name": "python3"
  },
  "language_info": {
   "codemirror_mode": {
    "name": "ipython",
    "version": 3
   },
   "file_extension": ".py",
   "mimetype": "text/x-python",
   "name": "python",
   "nbconvert_exporter": "python",
   "pygments_lexer": "ipython3",
   "version": "3.10.7"
  }
 },
 "nbformat": 4,
 "nbformat_minor": 5
}
