{
 "cells": [
  {
   "cell_type": "code",
   "execution_count": 5,
   "id": "ee836d07-e3d1-4530-8ec1-56b02a747da6",
   "metadata": {},
   "outputs": [
    {
     "name": "stdout",
     "output_type": "stream",
     "text": [
      "Mean: 39.64\n",
      "Median: 38.75\n",
      "Variance: 253.44\n"
     ]
    }
   ],
   "source": [
    "import pandas as pd\n",
    "\n",
    "# Given class intervals and frequencies\n",
    "class_intervals = [(0,10), (10,20), (20,30), (30,40), (40,50), (50,60), (60,70), (70,80)]\n",
    "frequencies = [5, 10, 20, 40, 30, 20, 10, 5]\n",
    "\n",
    "# Compute class midpoints\n",
    "midpoints = [(lower + upper) / 2 for lower, upper in class_intervals]\n",
    "\n",
    "# Create DataFrame\n",
    "df = pd.DataFrame({'Midpoint': midpoints, 'Frequency': frequencies})\n",
    "\n",
    "# Compute Mean\n",
    "mean = sum(df['Midpoint'] * df['Frequency']) / sum(df['Frequency'])\n",
    "\n",
    "# Compute Median\n",
    "cumulative_frequencies = df['Frequency'].cumsum()\n",
    "total_frequency = cumulative_frequencies.iloc[-1]\n",
    "median_class_index = cumulative_frequencies.ge(total_frequency / 2).idxmax()\n",
    "L = class_intervals[median_class_index][0]  # Lower boundary of median class\n",
    "F = cumulative_frequencies.iloc[median_class_index - 1] if median_class_index > 0 else 0\n",
    "f = df['Frequency'].iloc[median_class_index]  # Frequency of median class\n",
    "h = class_intervals[median_class_index][1] - class_intervals[median_class_index][0]  # Class width\n",
    "median = L + ((total_frequency / 2 - F) / f) * h\n",
    "\n",
    "# Compute Variance\n",
    "mean_square = sum((df['Midpoint'] ** 2) * df['Frequency']) / sum(df['Frequency'])\n",
    "variance = mean_square - mean ** 2\n",
    "\n",
    "# Display Results\n",
    "print(f\"Mean: {mean:.2f}\")\n",
    "print(f\"Median: {median:.2f}\")\n",
    "print(f\"Variance: {variance:.2f}\")"
   ]
  },
  {
   "cell_type": "code",
   "execution_count": null,
   "id": "8e505837-5b43-4522-b1e2-4bdb9114e881",
   "metadata": {},
   "outputs": [],
   "source": []
  }
 ],
 "metadata": {
  "kernelspec": {
   "display_name": "Python 3 (ipykernel)",
   "language": "python",
   "name": "python3"
  },
  "language_info": {
   "codemirror_mode": {
    "name": "ipython",
    "version": 3
   },
   "file_extension": ".py",
   "mimetype": "text/x-python",
   "name": "python",
   "nbconvert_exporter": "python",
   "pygments_lexer": "ipython3",
   "version": "3.10.7"
  }
 },
 "nbformat": 4,
 "nbformat_minor": 5
}
