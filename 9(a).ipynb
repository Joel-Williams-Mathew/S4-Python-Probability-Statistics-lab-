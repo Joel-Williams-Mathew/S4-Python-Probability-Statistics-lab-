{
 "cells": [
  {
   "cell_type": "code",
   "execution_count": 9,
   "id": "56a3240c-9f6f-42a6-8ce1-9b46c0e9ed12",
   "metadata": {},
   "outputs": [
    {
     "name": "stdout",
     "output_type": "stream",
     "text": [
      "Mean Population: 7694135.625\n",
      "Median Population: 4176916.5\n",
      "Variance of Population: 146549069168147.7\n"
     ]
    }
   ],
   "source": [
    "import pandas as pd\n",
    "\n",
    "# Define sample data: Population and Murder Rates for different states\n",
    "data = {\n",
    "    \"State\": [\"State1\", \"State2\", \"State3\", \"State4\", \"State5\",\"States6\",\"States7\",\"States8\"],\n",
    "    \"Population\": [710231, 897934, 2915918, 3574097, 4779736, 5029196, 6392017, 37253956],\n",
    "    \"Murder Rate\": [5.7, 5.6, 4.7, 5.6, 4.4, 2.8, 2.4, 5.8]\n",
    "}\n",
    "\n",
    "# Create DataFrame\n",
    "df = pd.DataFrame(data)\n",
    "\n",
    "# Compute Mean using sum function\n",
    "mean_population = df[\"Population\"].sum() / len(df)\n",
    "\n",
    "# Compute Median using sum function\n",
    "sorted_population = sorted(df[\"Population\"])\n",
    "n = len(sorted_population)\n",
    "if n % 2 == 0:\n",
    "    median_population = (sorted_population[n//2 - 1] + sorted_population[n//2]) / 2\n",
    "else:\n",
    "    median_population = sorted_population[n//2]\n",
    "\n",
    "# Compute Variance using sum function\n",
    "variance_population = sum((x - mean_population) ** 2 for x in df[\"Population\"]) / (len(df) - 1)\n",
    "\n",
    "# Display results\n",
    "print(f\"Mean Population: {mean_population}\")\n",
    "print(f\"Median Population: {median_population}\")\n",
    "print(f\"Variance of Population: {variance_population}\")"
   ]
  },
  {
   "cell_type": "code",
   "execution_count": null,
   "id": "bc5b8057-2dfa-446c-9d04-a19843b6fa86",
   "metadata": {},
   "outputs": [],
   "source": []
  }
 ],
 "metadata": {
  "kernelspec": {
   "display_name": "Python 3 (ipykernel)",
   "language": "python",
   "name": "python3"
  },
  "language_info": {
   "codemirror_mode": {
    "name": "ipython",
    "version": 3
   },
   "file_extension": ".py",
   "mimetype": "text/x-python",
   "name": "python",
   "nbconvert_exporter": "python",
   "pygments_lexer": "ipython3",
   "version": "3.10.7"
  }
 },
 "nbformat": 4,
 "nbformat_minor": 5
}
