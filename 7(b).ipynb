{
 "cells": [
  {
   "cell_type": "code",
   "execution_count": 1,
   "id": "f5a11b7f-4c8f-433f-821f-7f44192af0cd",
   "metadata": {},
   "outputs": [
    {
     "name": "stdout",
     "output_type": "stream",
     "text": [
      "Stock for '1984': 8\n",
      "Updated 'Moby Dick' with stock 7.\n",
      "Updated '1984' with stock 12.\n",
      "Removed 'The Catcher in the Rye' from the stock.\n",
      "'The Great Gatsby' exists in stock.\n",
      "'War and Peace' does not exist in stock.\n",
      "All book titles: ['The Great Gatsby', '1984', 'To Kill a Mockingbird', 'Moby Dick']\n",
      "Number of books in stock: 4\n",
      "Merged additional books into stock.\n",
      "Updated book stock: {'The Great Gatsby': 5, '1984': 12, 'To Kill a Mockingbird': 10, 'Moby Dick': 7, 'Pride and Prejudice': 6, 'The Hobbit': 4}\n"
     ]
    }
   ],
   "source": [
    "# Step 1: Create a dictionary with book titles and stock\n",
    "book_stock = {\n",
    "    'The Great Gatsby': 5,\n",
    "    '1984': 8,\n",
    "    'To Kill a Mockingbird': 10,\n",
    "    'The Catcher in the Rye': 3\n",
    "}\n",
    "\n",
    "# Step 2: Access any values\n",
    "print(\"Stock for '1984':\", book_stock['1984'])\n",
    "\n",
    "# Step 3: Add or update values\n",
    "def update_or_add_book(book, stock):\n",
    "    book_stock[book] = stock\n",
    "    print(f\"Updated '{book}' with stock {stock}.\")\n",
    "\n",
    "update_or_add_book('Moby Dick', 7)  # Adding a new book\n",
    "update_or_add_book('1984', 12)  # Updating stock for an existing book\n",
    "\n",
    "# Step 4: Remove key-value pair\n",
    "def remove_book(book):\n",
    "    if book in book_stock:\n",
    "        del book_stock[book]\n",
    "        print(f\"Removed '{book}' from the stock.\")\n",
    "    else:\n",
    "        print(f\"'{book}' not found in stock.\")\n",
    "\n",
    "remove_book('The Catcher in the Rye')  # Removing a book\n",
    "\n",
    "# Step 5: Check whether the key exists or not\n",
    "def check_book_exists(book):\n",
    "    if book in book_stock:\n",
    "        print(f\"'{book}' exists in stock.\")\n",
    "    else:\n",
    "        print(f\"'{book}' does not exist in stock.\")\n",
    "\n",
    "check_book_exists('The Great Gatsby')\n",
    "check_book_exists('War and Peace')\n",
    "\n",
    "# Step 6: Get all keys\n",
    "print(\"All book titles:\", list(book_stock.keys()))\n",
    "\n",
    "# Step 7: Find length of the dictionary\n",
    "print(\"Number of books in stock:\", len(book_stock))\n",
    "\n",
    "# Step 8: Merge dictionary\n",
    "additional_books = {\n",
    "    'Pride and Prejudice': 6,\n",
    "    'The Hobbit': 4\n",
    "}\n",
    "book_stock.update(additional_books)\n",
    "print(\"Merged additional books into stock.\")\n",
    "\n",
    "# Step 9: Print updated dictionary\n",
    "print(\"Updated book stock:\", book_stock)"
   ]
  },
  {
   "cell_type": "code",
   "execution_count": null,
   "id": "0cec7ddb-85d6-4858-b5c8-56c57cdec3c5",
   "metadata": {},
   "outputs": [],
   "source": []
  }
 ],
 "metadata": {
  "kernelspec": {
   "display_name": "Python 3 (ipykernel)",
   "language": "python",
   "name": "python3"
  },
  "language_info": {
   "codemirror_mode": {
    "name": "ipython",
    "version": 3
   },
   "file_extension": ".py",
   "mimetype": "text/x-python",
   "name": "python",
   "nbconvert_exporter": "python",
   "pygments_lexer": "ipython3",
   "version": "3.10.7"
  }
 },
 "nbformat": 4,
 "nbformat_minor": 5
}
