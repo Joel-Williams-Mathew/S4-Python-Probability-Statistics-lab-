{
 "cells": [
  {
   "cell_type": "code",
   "execution_count": 1,
   "id": "e8621d8f-04d6-4e4e-8a32-278912878186",
   "metadata": {},
   "outputs": [
    {
     "name": "stdout",
     "output_type": "stream",
     "text": [
      "Number of words: 12\n",
      "Number of sentences: 3\n",
      "Number of uppercase letters: 8\n",
      "Number of lowercase letters: 33\n",
      "Number of special symbols: 4\n"
     ]
    }
   ],
   "source": [
    "import string\n",
    "\n",
    "# Function to count the number of words, sentences, uppercase letters, lowercase letters, and special symbols\n",
    "def count_text_properties(file_name):\n",
    "    try:\n",
    "        # Initialize counters\n",
    "        word_count = 0\n",
    "        sentence_count = 0\n",
    "        uppercase_count = 0\n",
    "        lowercase_count = 0\n",
    "        special_symbol_count = 0\n",
    "\n",
    "        # Open and read the file\n",
    "        with open(file_name, \"r\") as file:\n",
    "            text = file.read()\n",
    "\n",
    "        # Count words by splitting the text into words\n",
    "        words = text.split()\n",
    "        word_count = len(words)\n",
    "\n",
    "        # Count sentences by looking for periods, exclamation marks, or question marks\n",
    "        sentence_count = text.count('.') + text.count('!') + text.count('?')\n",
    "\n",
    "        # Count uppercase and lowercase letters, and special symbols\n",
    "        for char in text:\n",
    "            if char.isupper():\n",
    "                uppercase_count += 1\n",
    "            elif char.islower():\n",
    "                lowercase_count += 1\n",
    "            elif char in string.punctuation:  # Check for special symbols (punctuation marks)\n",
    "                special_symbol_count += 1\n",
    "\n",
    "        # Print the results\n",
    "        print(f\"Number of words: {word_count}\")\n",
    "        print(f\"Number of sentences: {sentence_count}\")\n",
    "        print(f\"Number of uppercase letters: {uppercase_count}\")\n",
    "        print(f\"Number of lowercase letters: {lowercase_count}\")\n",
    "        print(f\"Number of special symbols: {special_symbol_count}\")\n",
    "\n",
    "    except FileNotFoundError:\n",
    "        print(f\"File '{file_name}' not found. Please make sure the file exists.\")\n",
    "\n",
    "# Example usage\n",
    "file_name = \"text.txt\"  # Replace with your file name\n",
    "count_text_properties(file_name)"
   ]
  },
  {
   "cell_type": "code",
   "execution_count": null,
   "id": "9ab7b647-bda4-48ea-b743-6d2b728aad19",
   "metadata": {},
   "outputs": [],
   "source": []
  }
 ],
 "metadata": {
  "kernelspec": {
   "display_name": "Python 3 (ipykernel)",
   "language": "python",
   "name": "python3"
  },
  "language_info": {
   "codemirror_mode": {
    "name": "ipython",
    "version": 3
   },
   "file_extension": ".py",
   "mimetype": "text/x-python",
   "name": "python",
   "nbconvert_exporter": "python",
   "pygments_lexer": "ipython3",
   "version": "3.10.7"
  }
 },
 "nbformat": 4,
 "nbformat_minor": 5
}
