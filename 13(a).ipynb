{
 "cells": [
  {
   "cell_type": "code",
   "execution_count": 2,
   "id": "89d19995-237a-4239-90af-59bde7111744",
   "metadata": {},
   "outputs": [
    {
     "name": "stdout",
     "output_type": "stream",
     "text": [
      "Variance of Murder Rate: 0.6930\n",
      "Standard Deviation of Murder Rate: 0.8325\n",
      "Mean Murder Rate: 5.0400\n",
      "Coefficient of Variation (C.V.) of Murder Rate: 16.52%\n"
     ]
    }
   ],
   "source": [
    "import pandas as pd\n",
    "import numpy as np\n",
    "\n",
    "# Sample Data: Replace with actual data\n",
    "# Creating a dictionary with state, population, and murder rate\n",
    "data = {\n",
    "    'State': ['State1', 'State2', 'State3', 'State4', 'State5'],\n",
    "    'Population': [500000, 1200000, 800000, 1500000, 600000],\n",
    "    'Murder Rate': [5.3, 4.8, 6.2, 3.9, 5.0]  # per 100,000 people\n",
    "}\n",
    "\n",
    "# Converting dictionary to DataFrame\n",
    "df = pd.DataFrame(data)\n",
    "\n",
    "# Calculating Variance\n",
    "variance = df['Murder Rate'].var()\n",
    "\n",
    "# Calculating Standard Deviation\n",
    "std_dev = np.sqrt(variance)\n",
    "\n",
    "# Calculating Mean\n",
    "mean_murder_rate = df['Murder Rate'].mean()\n",
    "\n",
    "# Calculating Coefficient of Variation (C.V.)\n",
    "coefficient_of_variation = (std_dev / mean_murder_rate) * 100  # in percentage\n",
    "\n",
    "# Displaying results\n",
    "print(f\"Variance of Murder Rate: {variance:.4f}\")\n",
    "print(f\"Standard Deviation of Murder Rate: {std_dev:.4f}\")\n",
    "print(f\"Mean Murder Rate: {mean_murder_rate:.4f}\")\n",
    "print(f\"Coefficient of Variation (C.V.) of Murder Rate: {coefficient_of_variation:.2f}%\")\n"
   ]
  },
  {
   "cell_type": "code",
   "execution_count": null,
   "id": "bf3e595f-1f7e-424b-a7de-fe12be2aba0a",
   "metadata": {},
   "outputs": [],
   "source": []
  }
 ],
 "metadata": {
  "kernelspec": {
   "display_name": "Python 3 (ipykernel)",
   "language": "python",
   "name": "python3"
  },
  "language_info": {
   "codemirror_mode": {
    "name": "ipython",
    "version": 3
   },
   "file_extension": ".py",
   "mimetype": "text/x-python",
   "name": "python",
   "nbconvert_exporter": "python",
   "pygments_lexer": "ipython3",
   "version": "3.10.7"
  }
 },
 "nbformat": 4,
 "nbformat_minor": 5
}
