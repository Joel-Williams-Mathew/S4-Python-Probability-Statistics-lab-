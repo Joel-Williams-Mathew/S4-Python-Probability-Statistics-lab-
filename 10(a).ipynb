{
 "cells": [
  {
   "cell_type": "code",
   "execution_count": null,
   "id": "55407c74-6695-4ff9-85cf-05dbd5ed7efd",
   "metadata": {},
   "outputs": [],
   "source": [
    "import pandas as pd\n",
    "import scipy.stats as stats\n",
    "\n",
    "# Experiment 10: Chi-Square Test for Goodness of Fit\n",
    "# Sample data: Contingency Table (Gender vs. Education Level)\n",
    "education_data = [[60, 54, 46, 41], [40, 44, 53, 57]]  # Example data\n",
    "columns = [\"High School\", \"Bachelor's\", \"Master's\", \"PhD\"]\n",
    "index = [\"Male\", \"Female\"]\n",
    "df = pd.DataFrame(education_data, index=index, columns=columns)\n",
    "\n",
    "# Perform Chi-Square Test\n",
    "chi2_stat, p_value, dof = stats.chi2_contingency(df)\n",
    "print(\"Chi-Square Statistic:\", chi2_stat)\n",
    "print(\"P-Value:\", p_value)\n",
    "print(\"Degrees of Freedom:\", dof)\n",
    "\n",
    "# Conclusion at 5% significance level\n",
    "if p_value < 0.05:\n",
    "    print(\"Gender and education level are dependent.\")\n",
    "else:\n",
    "    print(\"Gender and education level are independent.\")"
   ]
  },
  {
   "cell_type": "code",
   "execution_count": null,
   "id": "a43e5093-14b6-48e5-aafb-1be82e61965f",
   "metadata": {},
   "outputs": [],
   "source": []
  }
 ],
 "metadata": {
  "kernelspec": {
   "display_name": "Python 3 (ipykernel)",
   "language": "python",
   "name": "python3"
  },
  "language_info": {
   "codemirror_mode": {
    "name": "ipython",
    "version": 3
   },
   "file_extension": ".py",
   "mimetype": "text/x-python",
   "name": "python",
   "nbconvert_exporter": "python",
   "pygments_lexer": "ipython3",
   "version": "3.10.7"
  }
 },
 "nbformat": 4,
 "nbformat_minor": 5
}
