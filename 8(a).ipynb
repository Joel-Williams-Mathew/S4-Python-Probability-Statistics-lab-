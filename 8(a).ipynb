{
 "cells": [
  {
   "cell_type": "code",
   "execution_count": 4,
   "id": "807f4282-53d1-4274-9e4f-4a9def2a8bb0",
   "metadata": {},
   "outputs": [
    {
     "name": "stdout",
     "output_type": "stream",
     "text": [
      "Prime numbers: []\n"
     ]
    }
   ],
   "source": [
    "# Function to check if a number is prime\n",
    "def is_prime(num):\n",
    "    if num < 2:\n",
    "        return False\n",
    "    for i in range(2, int(num**0.5) + 1):\n",
    "        if num % i == 0:\n",
    "            return False\n",
    "    return True\n",
    "\n",
    "# Read numbers from a file\n",
    "file_name = \"numbers.txt\"\n",
    "\n",
    "try:\n",
    "    with open(file_name, \"r\") as file:\n",
    "        # Read numbers, split them, and convert to integers\n",
    "        numbers = list(map(int, file.read().split()))\n",
    "    \n",
    "    # Find prime numbers\n",
    "    prime_numbers = [num for num in numbers if is_prime(num)]\n",
    "    \n",
    "    # Print the prime numbers\n",
    "    print(\"Prime numbers:\", prime_numbers)\n",
    "\n",
    "except FileNotFoundError:\n",
    "    print(f\"File '{file_name}' not found. Please make sure the file exists.\")\n",
    "except ValueError:\n",
    "    print(\"The file contains non-numeric values. Please ensure all entries are numbers.\")\n"
   ]
  },
  {
   "cell_type": "code",
   "execution_count": null,
   "id": "14674ee7-80aa-45ac-990d-fd810ed8788a",
   "metadata": {},
   "outputs": [],
   "source": []
  }
 ],
 "metadata": {
  "kernelspec": {
   "display_name": "Python 3 (ipykernel)",
   "language": "python",
   "name": "python3"
  },
  "language_info": {
   "codemirror_mode": {
    "name": "ipython",
    "version": 3
   },
   "file_extension": ".py",
   "mimetype": "text/x-python",
   "name": "python",
   "nbconvert_exporter": "python",
   "pygments_lexer": "ipython3",
   "version": "3.10.7"
  }
 },
 "nbformat": 4,
 "nbformat_minor": 5
}
