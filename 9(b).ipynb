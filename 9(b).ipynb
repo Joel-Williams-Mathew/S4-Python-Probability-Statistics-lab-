{
 "cells": [
  {
   "cell_type": "code",
   "execution_count": 1,
   "id": "c4ab0c70-114c-4533-bf29-cdb600c4a90c",
   "metadata": {},
   "outputs": [
    {
     "name": "stdout",
     "output_type": "stream",
     "text": [
      "Mean: 39.642857142857146\n",
      "Standard Deviation: 15.91992077715905\n",
      "Coefficient of Variation (C.V.): 40.15835871715796%\n"
     ]
    }
   ],
   "source": [
    "import numpy as np\n",
    "import pandas as pd\n",
    "\n",
    "# Define class intervals and frequencies\n",
    "data = {\n",
    "    'Class Interval': ['0-10', '10-20', '20-30', '30-40', '40-50', '50-60', '60-70', '70-80'],\n",
    "    'Frequency': [5, 10, 20, 40, 30, 20, 10, 5]\n",
    "}\n",
    "\n",
    "# Create DataFrame\n",
    "df = pd.DataFrame(data)\n",
    "\n",
    "# Calculate midpoints of class intervals\n",
    "def midpoint(class_interval):\n",
    "    lower, upper = map(int, class_interval.split('-'))\n",
    "    return (lower + upper) / 2\n",
    "\n",
    "df['Midpoint'] = df['Class Interval'].apply(midpoint)\n",
    "\n",
    "# Calculate mean\n",
    "mean = np.sum(df['Midpoint'] * df['Frequency']) / np.sum(df['Frequency'])\n",
    "\n",
    "# Calculate standard deviation\n",
    "variance = np.sum(df['Frequency'] * (df['Midpoint'] - mean) ** 2) / np.sum(df['Frequency'])\n",
    "std_dev = np.sqrt(variance)\n",
    "\n",
    "# Calculate coefficient of variation (C.V.)\n",
    "cv = (std_dev / mean) * 100\n",
    "\n",
    "# Display results\n",
    "print(f\"Mean: {mean}\")\n",
    "print(f\"Standard Deviation: {std_dev}\")\n",
    "print(f\"Coefficient of Variation (C.V.): {cv}%\")"
   ]
  }
 ],
 "metadata": {
  "kernelspec": {
   "display_name": "Python 3 (ipykernel)",
   "language": "python",
   "name": "python3"
  },
  "language_info": {
   "codemirror_mode": {
    "name": "ipython",
    "version": 3
   },
   "file_extension": ".py",
   "mimetype": "text/x-python",
   "name": "python",
   "nbconvert_exporter": "python",
   "pygments_lexer": "ipython3",
   "version": "3.10.7"
  }
 },
 "nbformat": 4,
 "nbformat_minor": 5
}
