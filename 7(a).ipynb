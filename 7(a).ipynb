{
 "cells": [
  {
   "cell_type": "code",
   "execution_count": 4,
   "id": "45b772d9-8792-47f9-87da-3729884e3b2f",
   "metadata": {},
   "outputs": [
    {
     "name": "stdin",
     "output_type": "stream",
     "text": [
      "Enter numbers separated by spaces:  1 2 3 4 5 6 7 8 9 \n"
     ]
    },
    {
     "name": "stdout",
     "output_type": "stream",
     "text": [
      "Even numbers tuple: (2, 4, 6, 8)\n",
      "Odd numbers tuple: (1, 3, 5, 7, 9)\n"
     ]
    }
   ],
   "source": [
    "# Function to separate even and odd numbers from a tuple\n",
    "def separate_even_odd(numbers):\n",
    "    even_tuple = tuple(num for num in numbers if num % 2 == 0)\n",
    "    odd_tuple = tuple(num for num in numbers if num % 2 != 0)\n",
    "    return even_tuple,odd_tuple\n",
    "\n",
    "# Input: Reading a tuple of numbers from the user\n",
    "numbers = tuple(map(int, input(\"Enter numbers separated by spaces: \").split()))\n",
    "\n",
    "# Separating even and odd numbers\n",
    "even_tuple,odd_tuple = separate_even_odd(numbers)\n",
    "\n",
    "# Output: Printing the results\n",
    "print(\"Even numbers tuple:\", even_tuple)\n",
    "print(\"Odd numbers tuple:\", odd_tuple)"
   ]
  },
  {
   "cell_type": "code",
   "execution_count": null,
   "id": "888af102-88cc-4339-99fb-dfdc54473963",
   "metadata": {},
   "outputs": [],
   "source": []
  }
 ],
 "metadata": {
  "kernelspec": {
   "display_name": "Python 3 (ipykernel)",
   "language": "python",
   "name": "python3"
  },
  "language_info": {
   "codemirror_mode": {
    "name": "ipython",
    "version": 3
   },
   "file_extension": ".py",
   "mimetype": "text/x-python",
   "name": "python",
   "nbconvert_exporter": "python",
   "pygments_lexer": "ipython3",
   "version": "3.10.7"
  }
 },
 "nbformat": 4,
 "nbformat_minor": 5
}
